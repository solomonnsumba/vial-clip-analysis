{
 "cells": [
  {
   "cell_type": "code",
   "execution_count": 1,
   "metadata": {
    "gather": {
     "logged": 1664735961693
    }
   },
   "outputs": [],
   "source": [
    "from PIL import Image\n",
    "from sklearn.metrics import confusion_matrix, ConfusionMatrixDisplay\n",
    "import clip\n",
    "import torch\n",
    "from utils import ModelWrapper\n",
    "import glob\n",
    "import matplotlib.pyplot as plt"
   ]
  },
  {
   "cell_type": "code",
   "execution_count": 2,
   "metadata": {
    "gather": {
     "logged": 1664735963572
    },
    "jupyter": {
     "outputs_hidden": false,
     "source_hidden": false
    },
    "nteract": {
     "transient": {
      "deleting": false
     }
    }
   },
   "outputs": [],
   "source": [
    "class_names = ['Amiodarone','Dexamethasone', 'Etomidate', 'Fentanyl', 'Glycopyrrolate', \n",
    "'Hydromorphone','Ketamine', 'Ketorolac', 'Lidocaine', 'Magnesium Sulfate', \n",
    "'Midazolam', 'Nesostigmine', 'Ondansetron', 'Propofol', 'Rocuronium', 'Vasopressin','Vecuronium']"
   ]
  },
  {
   "cell_type": "code",
   "execution_count": 3,
   "metadata": {
    "gather": {
     "logged": 1664736015304
    },
    "jupyter": {
     "outputs_hidden": false,
     "source_hidden": false
    },
    "nteract": {
     "transient": {
      "deleting": false
     }
    }
   },
   "outputs": [],
   "source": [
    "if __name__ == '__main__':\n",
    "    base_model, preprocess = clip.load('ViT-L/14', 'cuda', jit=False)\n",
    "    NUM_CLASSES = 17\n",
    "    model = ModelWrapper(base_model, base_model.visual.output_dim, NUM_CLASSES, normalize=True)\n",
    "    for p in model.parameters():\n",
    "        p.data = p.data.float()\n",
    "\n",
    "    # TODO change to where model is saved\n",
    "    \n",
    "    saved_model_path = '/home/..../finetune_cp_4.pt'\n",
    "    model.load_state_dict(torch.load(saved_model_path, map_location='cpu'))\n",
    "    for p in model.parameters():\n",
    "        p.data = p.data.float()\n",
    "\n",
    "    model = model.cuda()\n",
    "    devices = [x for x in range(torch.cuda.device_count())]\n",
    "    model = torch.nn.DataParallel(model,  device_ids=devices)"
   ]
  },
  {
   "cell_type": "code",
   "execution_count": 4,
   "metadata": {
    "gather": {
     "logged": 1664736064834
    },
    "jupyter": {
     "outputs_hidden": false,
     "source_hidden": false
    },
    "nteract": {
     "transient": {
      "deleting": false
     }
    }
   },
   "outputs": [
    {
     "name": "stdout",
     "output_type": "stream",
     "text": [
      "/home/azureuser/cloudfiles/code/Users/sn74/drug_classifier/video_vial_label_data/Vial_Solomon_Clip_20/Vial_Solomon_Clip_20155.jpg\n",
      "Dexamethasone\n",
      "tensor([[0.5414, 0.2441, 0.1601, 0.0175, 0.0174]], device='cuda:0',\n",
      "       grad_fn=<TopkBackward0>)\n",
      "tensor([[ 1, 11,  0, 12,  8]], device='cuda:0')\n",
      "/home/azureuser/cloudfiles/code/Users/sn74/drug_classifier/video_vial_label_data/Vial_Solomon_Clip_20/Vial_Solomon_Clip_20156.jpg\n",
      "Nesostigmine\n",
      "tensor([[0.5766, 0.3862, 0.0177, 0.0069, 0.0043]], device='cuda:0',\n",
      "       grad_fn=<TopkBackward0>)\n",
      "tensor([[11,  1,  0, 12,  8]], device='cuda:0')\n",
      "/home/azureuser/cloudfiles/code/Users/sn74/drug_classifier/video_vial_label_data/Vial_Solomon_Clip_20/Vial_Solomon_Clip_20157.jpg\n",
      "Dexamethasone\n",
      "tensor([[0.9129, 0.0750, 0.0069, 0.0022, 0.0009]], device='cuda:0',\n",
      "       grad_fn=<TopkBackward0>)\n",
      "tensor([[ 1, 11, 12, 10,  8]], device='cuda:0')\n",
      "/home/azureuser/cloudfiles/code/Users/sn74/drug_classifier/video_vial_label_data/Vial_Solomon_Clip_20/Vial_Solomon_Clip_20158.jpg\n",
      "Dexamethasone\n",
      "tensor([[0.5685, 0.4002, 0.0151, 0.0090, 0.0015]], device='cuda:0',\n",
      "       grad_fn=<TopkBackward0>)\n",
      "tensor([[ 1, 11, 12, 10,  0]], device='cuda:0')\n",
      "/home/azureuser/cloudfiles/code/Users/sn74/drug_classifier/video_vial_label_data/Vial_Solomon_Clip_20/Vial_Solomon_Clip_20159.jpg\n",
      "Dexamethasone\n",
      "tensor([[9.8204e-01, 1.2217e-02, 1.9404e-03, 1.6666e-03, 8.0881e-04]],\n",
      "       device='cuda:0', grad_fn=<TopkBackward0>)\n",
      "tensor([[ 1, 11,  8, 10, 12]], device='cuda:0')\n",
      "/home/azureuser/cloudfiles/code/Users/sn74/drug_classifier/video_vial_label_data/Vial_Solomon_Clip_20/Vial_Solomon_Clip_20274.jpg\n",
      "Nesostigmine\n",
      "tensor([[0.9853, 0.0057, 0.0031, 0.0022, 0.0014]], device='cuda:0',\n",
      "       grad_fn=<TopkBackward0>)\n",
      "tensor([[11,  1,  7,  6,  8]], device='cuda:0')\n",
      "390\n",
      "6\n"
     ]
    }
   ],
   "source": [
    "import decimal\n",
    "cls = 'Midazolam'\n",
    "class_correct = []\n",
    "class_wrong = []\n",
    "\n",
    "# TODO change to where the Vial Label crops are saved\n",
    "for image in glob.glob('/home/...../yolov5/runs/detect/exp/crops/Vial Label/*.jpg'):\n",
    "    img = preprocess(Image.open(image)).unsqueeze(0)\n",
    "    img = img.cuda()\n",
    "    out = model(img)\n",
    "\n",
    "      \n",
    "    prediction = out.argmax(dim=1, keepdim=True)\n",
    "    pred = class_names[prediction.item()]\n",
    "    probabilities = torch.nn.functional.softmax(out, dim=1)\n",
    "    top_p, top_class = probabilities.topk(5,1,largest=True,sorted=True)\n",
    "    \n",
    "\n",
    "\n",
    "    if pred == cls:\n",
    "        class_correct.append(1)\n",
    "    else:\n",
    "        class_wrong.append(1)\n",
    "        print(image)\n",
    "        print(pred)\n",
    "print(len(class_correct))\n",
    "print(len(class_wrong))"
   ]
  }
 ],
 "metadata": {
  "kernel_info": {
   "name": "azureml_py38_pt_tf"
  },
  "kernelspec": {
   "display_name": "Python 3.8 - Pytorch and Tensorflow",
   "language": "python",
   "name": "azureml_py38_pt_tf"
  },
  "language_info": {
   "codemirror_mode": {
    "name": "ipython",
    "version": 3
   },
   "file_extension": ".py",
   "mimetype": "text/x-python",
   "name": "python",
   "nbconvert_exporter": "python",
   "pygments_lexer": "ipython3",
   "version": "3.8.1"
  },
  "microsoft": {
   "host": {
    "AzureML": {
     "notebookHasBeenCompleted": true
    }
   }
  },
  "nteract": {
   "version": "nteract-front-end@1.0.0"
  }
 },
 "nbformat": 4,
 "nbformat_minor": 2
}
